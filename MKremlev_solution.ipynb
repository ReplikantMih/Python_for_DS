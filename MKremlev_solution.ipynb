{
 "cells": [
  {
   "cell_type": "code",
   "execution_count": 1,
   "metadata": {},
   "outputs": [],
   "source": [
    "import numpy as np\n",
    "import pandas as pd\n",
    "import matplotlib.pyplot as plt\n",
    "\n",
    "from sklearn.model_selection import train_test_split\n",
    "\n",
    "from sklearn.linear_model import LinearRegression\n",
    "from sklearn.linear_model import Lasso, Ridge\n",
    "\n",
    "from sklearn.metrics import r2_score\n",
    "from sklearn.model_selection import KFold, GridSearchCV\n",
    "\n",
    "from sklearn.ensemble import RandomForestRegressor, GradientBoostingRegressor"
   ]
  },
  {
   "cell_type": "markdown",
   "metadata": {},
   "source": [
    "Читаем данные:"
   ]
  },
  {
   "cell_type": "code",
   "execution_count": 2,
   "metadata": {},
   "outputs": [],
   "source": [
    "train = None\n",
    "test = None\n",
    "target = None\n",
    "\n",
    "X_train = None,\n",
    "X_test = None,\n",
    "y_train = None,\n",
    "y_test = None\n",
    "\n",
    "def import_data():\n",
    "    global train, test, target\n",
    "    train = pd.read_csv('train_scaled.csv', index_col=0)\n",
    "    test = pd.read_csv('test_scaled.csv', index_col=0)\n",
    "    target = train['Price']\n",
    "\n",
    "    train.drop(columns=['Price'], inplace=True)\n"
   ]
  },
  {
   "cell_type": "code",
   "execution_count": 3,
   "metadata": {},
   "outputs": [],
   "source": [
    "def split():\n",
    "    global X_train, X_test, y_train, y_test\n",
    "    X_train, X_test, y_train, y_test = train_test_split(train, target, test_size=0.25, random_state=17)"
   ]
  },
  {
   "cell_type": "code",
   "execution_count": 4,
   "metadata": {},
   "outputs": [],
   "source": [
    "import_data()\n",
    "split()"
   ]
  },
  {
   "cell_type": "code",
   "execution_count": 5,
   "metadata": {},
   "outputs": [],
   "source": [
    "results = None\n",
    "\n",
    "def gradient_boositing_comp():\n",
    "    global results, test, train\n",
    "    trn = train.copy()\n",
    "    ids = test['Id']\n",
    "    tst = test.drop(columns=['Id'])\n",
    "    \n",
    "    gb_model = GradientBoostingRegressor(max_depth = 7, n_estimators= 100)\n",
    "    gb_model.fit(trn, target)\n",
    "    y_test_preds = gb_model.predict(tst)\n",
    "    \n",
    "    results = pd.DataFrame({'Id': ids, 'Price': y_test_preds})\n",
    "    results.to_csv('MKremlev_predictions.csv', index=None)\n",
    "\n",
    "gradient_boositing_comp()"
   ]
  },
  {
   "cell_type": "raw",
   "metadata": {},
   "source": [
    "def linear_regression():\n",
    "    lr = LinearRegression()\n",
    "\n",
    "    lr.fit(X_train, y_train)\n",
    "    y_pred = lr.predict(X_test)\n",
    "    return r2_score(y_test, y_pred)"
   ]
  },
  {
   "cell_type": "raw",
   "metadata": {},
   "source": [
    "def linear_regular():\n",
    "    model = Lasso(alpha=0.03, random_state=17)\n",
    "    model.fit(X_train.loc[:, X_train.columns], y_train)\n",
    "    y_pred = model.predict(X_test.loc[:, X_train.columns])\n",
    "    return r2_score(y_test, y_pred)"
   ]
  },
  {
   "cell_type": "raw",
   "metadata": {},
   "source": [
    "def random_forest():\n",
    "    rf_model = RandomForestRegressor(n_estimators = 30, max_depth=75, random_state=17)\n",
    "    rf_model.fit(X_train, y_train)\n",
    "    y_test_preds = rf_model.predict(X_test)\n",
    "\n",
    "    return r2_score(y_test, y_test_preds)"
   ]
  },
  {
   "cell_type": "raw",
   "metadata": {},
   "source": [
    "def gradien_boositing():\n",
    "    gb_model = GradientBoostingRegressor(max_depth = 7, n_estimators= 100)\n",
    "    gb_model.fit(X_train, y_train)\n",
    "    y_test_preds = gb_model.predict(X_test)\n",
    "    r2 = r2_score(y_test, y_test_preds)\n",
    "    \n",
    "    return r2"
   ]
  },
  {
   "cell_type": "code",
   "execution_count": null,
   "metadata": {},
   "outputs": [],
   "source": []
  },
  {
   "cell_type": "raw",
   "metadata": {},
   "source": [
    "def gradien_boositing_opt(max_depth, n_estimators):\n",
    "    gb_model = GradientBoostingRegressor(max_depth = max_depth, n_estimators= n_estimators)\n",
    "    gb_model.fit(X_train, y_train)\n",
    "    y_test_preds = gb_model.predict(X_test)\n",
    "    r2 = r2_score(y_test, y_test_preds)\n",
    "    print(i, j, r2)\n",
    "    \n",
    "    return i, j, r2"
   ]
  },
  {
   "cell_type": "markdown",
   "metadata": {},
   "source": [
    "Здесь пискал оптимальные параметры по лучшей модели:"
   ]
  },
  {
   "cell_type": "raw",
   "metadata": {},
   "source": [
    "rslt = []\n",
    "for i in np.linspace(1, 15):\n",
    "    for j in np.linspace(25, 750, 30):\n",
    "        rslt.append(gradien_boositing_opt(int(i), int(j)))\n",
    "        "
   ]
  },
  {
   "cell_type": "markdown",
   "metadata": {},
   "source": [
    "Здесь меняя вариант предобработки, на наборе моделей оценивал эффект:"
   ]
  },
  {
   "cell_type": "raw",
   "metadata": {},
   "source": [
    "def main():\n",
    "    import_data()\n",
    "    split()\n",
    "    print('1. linear_regression: ', linear_regression())\n",
    "    print('2. linear_regular:    ', linear_regular())\n",
    "    print('3. random_forest:     ', random_forest())\n",
    "    print('4. gradient_booster:  ', gradien_boositing())"
   ]
  },
  {
   "cell_type": "markdown",
   "metadata": {},
   "source": [
    " "
   ]
  },
  {
   "cell_type": "markdown",
   "metadata": {},
   "source": [
    "Предварительные выводы по влиянию факторов предобработки:\n",
    "- масштабирование в текущем виде почти не влияет, немного ухудшает.\n",
    "- сбросить в edge/median не сильно влияет если затрагивает небольшое число значений.\n",
    "- удаление признака с большим числом пропусков Healthcare_1 вместо того чтобы заполнить пропуски ухудшает результат.\n",
    "- если убрать корректировку этажей результаты значительно улучшаются."
   ]
  },
  {
   "cell_type": "markdown",
   "metadata": {},
   "source": [
    "Записал влияние ряда процедур предобработки, но не все:"
   ]
  },
  {
   "cell_type": "markdown",
   "metadata": {},
   "source": [
    "base: \n",
    "1. linear_regression:  0.4729136872323022\n",
    "2. linear_regular:     0.45689797534046417\n",
    "3. random_forest:      0.6743797086260473\n",
    "4. gradient_booster:   0.7036412199521744\n",
    "\n",
    "убрал масштабирование:\n",
    "1. linear_regression:  0.47291368723230187\n",
    "2. linear_regular:     0.4729133895229596\n",
    "3. random_forest:      0.6762857381967619\n",
    "4. gradient_booster:   0.7006338247116466\n",
    "\n",
    "вернул масштабирование, стал сбрасывать не в медиану, а в edge:\n",
    "1. linear_regression:  0.4712899868532363\n",
    "2. linear_regular:     0.45436059882286073\n",
    "3. random_forest:      0.6762028696985951\n",
    "4. gradient_booster:   0.7040286908956346\n",
    "\n",
    "удалил Healthcare_1 вместо заполнения пропусков:\n",
    "1. linear_regression:  0.4661754024914292\n",
    "2. linear_regular:     0.4489348842399594\n",
    "3. random_forest:      0.670451803968009\n",
    "4. gradient_booster:   0.6931524421803156\n",
    "\n",
    "убрал корректировку этажей:\n",
    "1. linear_regression:  0.4767295391713775\n",
    "2. linear_regular:     0.45852431805658866\n",
    "3. random_forest:      0.6759433691222179\n",
    "4. gradient_booster:   0.7149343456569763"
   ]
  },
  {
   "cell_type": "raw",
   "metadata": {},
   "source": [
    "main()"
   ]
  }
 ],
 "metadata": {
  "kernelspec": {
   "display_name": "Python 3",
   "language": "python",
   "name": "python3"
  },
  "language_info": {
   "codemirror_mode": {
    "name": "ipython",
    "version": 3
   },
   "file_extension": ".py",
   "mimetype": "text/x-python",
   "name": "python",
   "nbconvert_exporter": "python",
   "pygments_lexer": "ipython3",
   "version": "3.7.3"
  }
 },
 "nbformat": 4,
 "nbformat_minor": 2
}
